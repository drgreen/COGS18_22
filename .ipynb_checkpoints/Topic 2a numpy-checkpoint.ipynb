{
 "cells": [
  {
   "cell_type": "markdown",
   "metadata": {},
   "source": [
    "# Topic 2:  numpy"
   ]
  },
  {
   "cell_type": "markdown",
   "metadata": {},
   "source": [
    "We are now moving on the useful libraries for scientific computing.  The first one of interest is numpy.  We load it like this:"
   ]
  },
  {
   "cell_type": "code",
   "execution_count": 2,
   "metadata": {},
   "outputs": [],
   "source": [
    "import numpy as np"
   ]
  },
  {
   "cell_type": "markdown",
   "metadata": {},
   "source": [
    "numpy is filled with basic math functions that you will use all the time"
   ]
  },
  {
   "cell_type": "code",
   "execution_count": 3,
   "metadata": {},
   "outputs": [
    {
     "name": "stdout",
     "output_type": "stream",
     "text": [
      "0.9092974268256817 -1.0\n"
     ]
    }
   ],
   "source": [
    "print(np.sin(2),np.cos(np.pi))"
   ]
  },
  {
   "cell_type": "markdown",
   "metadata": {},
   "source": [
    "Let's make our life easier and define"
   ]
  },
  {
   "cell_type": "code",
   "execution_count": 3,
   "metadata": {},
   "outputs": [],
   "source": [
    "pi=np.pi"
   ]
  },
  {
   "cell_type": "markdown",
   "metadata": {},
   "source": [
    "The most basic object in numpy is the numpy array.  In some ways, this is just like a list, but it is designed so you can do lots of math operations quickly:"
   ]
  },
  {
   "cell_type": "code",
   "execution_count": 5,
   "metadata": {},
   "outputs": [
    {
     "name": "stdout",
     "output_type": "stream",
     "text": [
      "1 3 5\n"
     ]
    }
   ],
   "source": [
    "a=np.array([1,4,1,5,15,20,22,1,45,3])\n",
    "print(a[0], a[-1], a[3])"
   ]
  },
  {
   "cell_type": "code",
   "execution_count": 7,
   "metadata": {},
   "outputs": [
    {
     "name": "stdout",
     "output_type": "stream",
     "text": [
      "[0. 0. 0. 0. 0. 0. 0. 0. 0. 0.]\n"
     ]
    }
   ],
   "source": [
    "b=np.zeros(len(a))\n",
    "print(b)"
   ]
  },
  {
   "cell_type": "code",
   "execution_count": 8,
   "metadata": {},
   "outputs": [
    {
     "name": "stdout",
     "output_type": "stream",
     "text": [
      "[35.1 35.1 35.1 35.1 35.1 35.1 35.1 35.1 35.1 35.1]\n"
     ]
    }
   ],
   "source": [
    "b=np.ones(len(a))*35.1\n",
    "print(b)"
   ]
  },
  {
   "cell_type": "code",
   "execution_count": 8,
   "metadata": {},
   "outputs": [
    {
     "name": "stdout",
     "output_type": "stream",
     "text": [
      "[36.1 39.1 36.1 40.1 50.1 55.1 57.1 36.1 80.1 38.1]\n",
      "[  35.1  140.4   35.1  175.5  526.5  702.   772.2   35.1 1579.5  105.3]\n",
      "[    1    64     1   125  3375  8000 10648     1 91125    27]\n",
      "[43243.551 43243.551 43243.551 43243.551 43243.551 43243.551 43243.551\n",
      " 43243.551 43243.551 43243.551]\n"
     ]
    }
   ],
   "source": [
    "print(a+b)\n",
    "print(a*b)\n",
    "print(a**3)\n",
    "print(b**3)"
   ]
  },
  {
   "cell_type": "markdown",
   "metadata": {},
   "source": [
    "Notice that this is NOT doing matrix or vector mupliplication or addition.  It is performing the operation on each element of the list.  For this to work, it is essential that a and b are the same length.  But, it does understand what you mean if you act with number."
   ]
  },
  {
   "cell_type": "code",
   "execution_count": 9,
   "metadata": {},
   "outputs": [
    {
     "name": "stdout",
     "output_type": "stream",
     "text": [
      "[  4  16   4  20  60  80  88   4 180  12]\n",
      "[ 5  8  5  9 19 24 26  5 49  7]\n"
     ]
    }
   ],
   "source": [
    "print(a*4)\n",
    "print(a+4)"
   ]
  },
  {
   "cell_type": "markdown",
   "metadata": {},
   "source": [
    "But if you have two different sized arrays is doesn't know what to do"
   ]
  },
  {
   "cell_type": "code",
   "execution_count": 10,
   "metadata": {},
   "outputs": [
    {
     "ename": "ValueError",
     "evalue": "operands could not be broadcast together with shapes (10,) (3,) ",
     "output_type": "error",
     "traceback": [
      "\u001b[0;31m---------------------------------------------------------------------------\u001b[0m",
      "\u001b[0;31mValueError\u001b[0m                                Traceback (most recent call last)",
      "\u001b[0;32m/var/folders/vh/rcz751b57355h3qzj37sc3080000gp/T/ipykernel_7558/3507022599.py\u001b[0m in \u001b[0;36m<module>\u001b[0;34m\u001b[0m\n\u001b[1;32m      1\u001b[0m \u001b[0mc\u001b[0m\u001b[0;34m=\u001b[0m\u001b[0mnp\u001b[0m\u001b[0;34m.\u001b[0m\u001b[0marray\u001b[0m\u001b[0;34m(\u001b[0m\u001b[0;34m[\u001b[0m\u001b[0;36m2\u001b[0m\u001b[0;34m,\u001b[0m\u001b[0;36m4\u001b[0m\u001b[0;34m,\u001b[0m\u001b[0;36m2\u001b[0m\u001b[0;34m]\u001b[0m\u001b[0;34m)\u001b[0m\u001b[0;34m\u001b[0m\u001b[0;34m\u001b[0m\u001b[0m\n\u001b[0;32m----> 2\u001b[0;31m \u001b[0ma\u001b[0m\u001b[0;34m+\u001b[0m\u001b[0mc\u001b[0m\u001b[0;34m\u001b[0m\u001b[0;34m\u001b[0m\u001b[0m\n\u001b[0m",
      "\u001b[0;31mValueError\u001b[0m: operands could not be broadcast together with shapes (10,) (3,) "
     ]
    }
   ],
   "source": [
    "c=np.array([2,4,2])\n",
    "a+c"
   ]
  },
  {
   "cell_type": "markdown",
   "metadata": {},
   "source": [
    "Numpy arrays actually have shapes so that they are more like matrices, tensors, etc."
   ]
  },
  {
   "cell_type": "code",
   "execution_count": 4,
   "metadata": {},
   "outputs": [
    {
     "name": "stdout",
     "output_type": "stream",
     "text": [
      "(2, 2) \n",
      " [[1 2]\n",
      " [1 2]] \n",
      "\n",
      "(3, 3, 3) \n",
      " [[[1. 1. 1.]\n",
      "  [1. 1. 1.]\n",
      "  [1. 1. 1.]]\n",
      "\n",
      " [[1. 1. 1.]\n",
      "  [1. 1. 1.]\n",
      "  [1. 1. 1.]]\n",
      "\n",
      " [[1. 1. 1.]\n",
      "  [1. 1. 1.]\n",
      "  [1. 1. 1.]]]\n"
     ]
    }
   ],
   "source": [
    "d=np.array([[1,2],[1,2]])\n",
    "print(d.shape,'\\n', d,'\\n')\n",
    "\n",
    "e=np.ones((3,3,3))\n",
    "print(e.shape,'\\n', e)\n",
    "#d.shape"
   ]
  },
  {
   "cell_type": "markdown",
   "metadata": {},
   "source": [
    "...But we can change their shape:"
   ]
  },
  {
   "cell_type": "code",
   "execution_count": 5,
   "metadata": {},
   "outputs": [
    {
     "name": "stdout",
     "output_type": "stream",
     "text": [
      "[0 1 2 3 4 5 6 7 8]\n"
     ]
    }
   ],
   "source": [
    "e=np.arange(9)\n",
    "print(e)"
   ]
  },
  {
   "cell_type": "code",
   "execution_count": 6,
   "metadata": {},
   "outputs": [
    {
     "data": {
      "text/plain": [
       "array([[0, 1, 2],\n",
       "       [3, 4, 5],\n",
       "       [6, 7, 8]])"
      ]
     },
     "execution_count": 6,
     "metadata": {},
     "output_type": "execute_result"
    }
   ],
   "source": [
    "e.reshape((3,3)) # this will not change e"
   ]
  },
  {
   "cell_type": "code",
   "execution_count": 7,
   "metadata": {},
   "outputs": [
    {
     "name": "stdout",
     "output_type": "stream",
     "text": [
      "[0 1 2 3 4 5 6 7 8]\n"
     ]
    }
   ],
   "source": [
    "print(e)"
   ]
  },
  {
   "cell_type": "code",
   "execution_count": 9,
   "metadata": {},
   "outputs": [
    {
     "name": "stdout",
     "output_type": "stream",
     "text": [
      "[[[ 0  1  2]\n",
      "  [ 3  4  5]\n",
      "  [ 6  7  8]]\n",
      "\n",
      " [[ 9 10 11]\n",
      "  [12 13 14]\n",
      "  [15 16 17]]\n",
      "\n",
      " [[18 19 20]\n",
      "  [21 22 23]\n",
      "  [24 25 26]]]\n",
      "[ 0  1  2  3  4  5  6  7  8  9 10 11 12 13 14 15 16 17 18 19 20 21 22 23\n",
      " 24 25 26]\n"
     ]
    }
   ],
   "source": [
    "e=np.arange(27)\n",
    "f=e.reshape((3,3,3))  # e is not changed, changes need to be stored in a new variable.\n",
    "print(f)\n",
    "print(e)"
   ]
  },
  {
   "cell_type": "code",
   "execution_count": 10,
   "metadata": {},
   "outputs": [
    {
     "data": {
      "text/plain": [
       "array([6, 7, 8])"
      ]
     },
     "execution_count": 10,
     "metadata": {},
     "output_type": "execute_result"
    }
   ],
   "source": [
    "f[0,2] #equivalent to f[0,2,:] slice=0,row=2, all columns"
   ]
  },
  {
   "cell_type": "code",
   "execution_count": 11,
   "metadata": {},
   "outputs": [
    {
     "data": {
      "text/plain": [
       "array([6, 7, 8])"
      ]
     },
     "execution_count": 11,
     "metadata": {},
     "output_type": "execute_result"
    }
   ],
   "source": [
    "f[0,2,:]"
   ]
  },
  {
   "cell_type": "code",
   "execution_count": 12,
   "metadata": {},
   "outputs": [
    {
     "data": {
      "text/plain": [
       "array([[[  0,   1,   4],\n",
       "        [  9,  16,  25],\n",
       "        [ 36,  49,  64]],\n",
       "\n",
       "       [[ 81, 100, 121],\n",
       "        [144, 169, 196],\n",
       "        [225, 256, 289]],\n",
       "\n",
       "       [[324, 361, 400],\n",
       "        [441, 484, 529],\n",
       "        [576, 625, 676]]], dtype=int32)"
      ]
     },
     "execution_count": 12,
     "metadata": {},
     "output_type": "execute_result"
    }
   ],
   "source": [
    "f**2"
   ]
  },
  {
   "cell_type": "markdown",
   "metadata": {},
   "source": [
    "These definitions are really useful because you can write a function like it acts on a single number, but, if you're careful, it can act on the full array:"
   ]
  },
  {
   "cell_type": "code",
   "execution_count": 31,
   "metadata": {},
   "outputs": [],
   "source": [
    "def position(t,x0,v,a):\n",
    "    position=x0+v*t+a*t**2/2.\n",
    "    return position"
   ]
  },
  {
   "cell_type": "code",
   "execution_count": 32,
   "metadata": {},
   "outputs": [],
   "source": [
    "t=np.linspace(0,100,1000)"
   ]
  },
  {
   "cell_type": "code",
   "execution_count": 33,
   "metadata": {},
   "outputs": [],
   "source": [
    "d=position(t,50,-100.,3.)"
   ]
  },
  {
   "cell_type": "code",
   "execution_count": 33,
   "metadata": {},
   "outputs": [],
   "source": [
    "import matplotlib.pyplot as plt"
   ]
  },
  {
   "cell_type": "code",
   "execution_count": 35,
   "metadata": {},
   "outputs": [
    {
     "data": {
      "image/png": "[encoded data removed]",
      "text/plain": [
       "<Figure size 432x288 with 1 Axes>"
      ]
     },
     "metadata": {
      "needs_background": "light"
     },
     "output_type": "display_data"
    }
   ],
   "source": [
    "plt.plot(t,d)\n",
    "plt.show()"
   ]
  },
  {
   "cell_type": "markdown",
   "metadata": {},
   "source": [
    "We can also try something more complicated where we solve more than one problem at a time:"
   ]
  },
  {
   "cell_type": "code",
   "execution_count": 22,
   "metadata": {},
   "outputs": [
    {
     "name": "stdout",
     "output_type": "stream",
     "text": [
      "(3, 1000)\n"
     ]
    }
   ],
   "source": [
    "tarray=np.array((t,t,t))\n",
    "print(tarray.shape)\n",
    "varray=np.zeros(tarray.shape)\n",
    "aarray=np.ones(tarray.shape)"
   ]
  },
  {
   "cell_type": "code",
   "execution_count": 23,
   "metadata": {},
   "outputs": [],
   "source": [
    "varray[1,:]=np.ones(len(t))\n",
    "varray[2,:]=np.ones(len(t))*2\n",
    "aarray[1,:]=np.ones(len(t))*2\n",
    "aarray[2,:]=np.ones(len(t))*3"
   ]
  },
  {
   "cell_type": "code",
   "execution_count": 24,
   "metadata": {},
   "outputs": [],
   "source": [
    "darray=position(tarray,0,varray,aarray)"
   ]
  },
  {
   "cell_type": "code",
   "execution_count": 25,
   "metadata": {},
   "outputs": [
    {
     "data": {
      "image/png": "[encoded data removed]",
      "text/plain": [
       "<Figure size 432x288 with 1 Axes>"
      ]
     },
     "metadata": {
      "needs_background": "light"
     },
     "output_type": "display_data"
    }
   ],
   "source": [
    "plt.plot(t,darray[0,:])\n",
    "plt.plot(t,darray[1,:])\n",
    "plt.plot(t,darray[2,:])\n",
    "plt.show()"
   ]
  },
  {
   "cell_type": "markdown",
   "metadata": {},
   "source": [
    "The key advantages of numpy are the organization (like the above example) and the speed.  Numpy is essentially a bunch of code that is commonly used, but written in C because it is faster than python.  We can see this explicitely with an example:"
   ]
  },
  {
   "cell_type": "code",
   "execution_count": 13,
   "metadata": {},
   "outputs": [],
   "source": [
    "import time"
   ]
  },
  {
   "cell_type": "code",
   "execution_count": 26,
   "metadata": {},
   "outputs": [],
   "source": [
    "def trad_version():\n",
    "    t1 = time.time() # what is the time when I start\n",
    "    X = range(int(1e7)) # arrange numbers 0, 10M -1\n",
    "    Y = range(int(1e7)) # arrange numbers 0, 10M -1\n",
    "    Z = [] \n",
    "    for i in range(len(X)):\n",
    "        Z.append(X[i] + Y[i]) # make a new list by adding the elements of X and Y\n",
    "    return time.time() - t1 # what is the difference from the time when I end and started"
   ]
  },
  {
   "cell_type": "code",
   "execution_count": 27,
   "metadata": {},
   "outputs": [],
   "source": [
    "def numpy_version():\n",
    "    t1 = time.time() # what is the time when I start\n",
    "    X = np.arange(int(1e7)) # arrange numbers 0, 10M -1\n",
    "    Y = np.arange(int(1e7))# arrange numbers 0, 10M -1\n",
    "    Z = X + Y # make a new list by adding the elements of X and Y\n",
    "    return time.time() - t1 # what is the difference from the time when I end and started"
   ]
  },
  {
   "cell_type": "code",
   "execution_count": 28,
   "metadata": {},
   "outputs": [
    {
     "name": "stdout",
     "output_type": "stream",
     "text": [
      "10000000\n"
     ]
    }
   ],
   "source": [
    "print(int(1e7))"
   ]
  },
  {
   "cell_type": "code",
   "execution_count": 30,
   "metadata": {},
   "outputs": [
    {
     "name": "stdout",
     "output_type": "stream",
     "text": [
      "69.6842238736004\n"
     ]
    }
   ],
   "source": [
    "print(trad_version()/numpy_version())"
   ]
  },
  {
   "cell_type": "markdown",
   "metadata": {},
   "source": [
    "So we see that numpy more than 25x faster than doing the same thing with a list.  The commands are all very similar too."
   ]
  },
  {
   "cell_type": "markdown",
   "metadata": {},
   "source": [
    "### Some basic numpy tools"
   ]
  },
  {
   "cell_type": "markdown",
   "metadata": {},
   "source": [
    "A very convenient tool is to be able to make arrays of a given size and shape quickly.  Here are a few very common examples:"
   ]
  },
  {
   "cell_type": "code",
   "execution_count": 35,
   "metadata": {},
   "outputs": [
    {
     "name": "stdout",
     "output_type": "stream",
     "text": [
      "[0 1 2 3 4 5 6 7 8 9]\n",
      "[ 3  4  5  6  7  8  9 10 11 12 13]\n",
      "[ 3  5  7  9 11 13]\n",
      "[0.  0.1 0.2 0.3 0.4 0.5 0.6 0.7 0.8 0.9]\n"
     ]
    }
   ],
   "source": [
    "print(np.arange(10))\n",
    "print(np.arange(3,14))\n",
    "print(np.arange(3,14,2))\n",
    "print(np.arange(0,1,0.1))"
   ]
  },
  {
   "cell_type": "code",
   "execution_count": 31,
   "metadata": {},
   "outputs": [
    {
     "name": "stdout",
     "output_type": "stream",
     "text": [
      "[2.         2.33333333 2.66666667 3.         3.33333333 3.66666667\n",
      " 4.         4.33333333 4.66666667 5.        ]\n",
      "[2.  2.3 2.6 2.9 3.2 3.5 3.8 4.1 4.4 4.7]\n"
     ]
    }
   ],
   "source": [
    "print(np.linspace(2,5,10)) # last index is the number of points with the extremes\n",
    "print(np.linspace(2,5,10,endpoint=False)) # or without the last extreme"
   ]
  },
  {
   "cell_type": "code",
   "execution_count": 37,
   "metadata": {},
   "outputs": [
    {
     "name": "stdout",
     "output_type": "stream",
     "text": [
      "[  1.           1.66810054   2.7825594    4.64158883   7.74263683\n",
      "  12.91549665  21.5443469   35.93813664  59.94842503 100.        ]\n"
     ]
    }
   ],
   "source": [
    "print(np.logspace(0,2,10))"
   ]
  },
  {
   "cell_type": "code",
   "execution_count": 39,
   "metadata": {},
   "outputs": [
    {
     "name": "stdout",
     "output_type": "stream",
     "text": [
      "[[1. 1. 1.]\n",
      " [1. 1. 1.]\n",
      " [1. 1. 1.]]\n",
      "[1. 1. 1. 1. 1. 1. 1. 1. 1. 1.]\n",
      "[[0. 0. 0.]\n",
      " [0. 0. 0.]\n",
      " [0. 0. 0.]]\n",
      "[0. 0. 0. 0. 0. 0. 0. 0. 0. 0.]\n"
     ]
    }
   ],
   "source": [
    "print(np.ones((3,3)))\n",
    "print(np.ones(10))\n",
    "print(np.zeros((3,3)))\n",
    "print(np.zeros(10))"
   ]
  },
  {
   "cell_type": "code",
   "execution_count": 40,
   "metadata": {},
   "outputs": [
    {
     "data": {
      "text/plain": [
       "array([[1, 0, 0],\n",
       "       [0, 2, 0],\n",
       "       [0, 0, 3]])"
      ]
     },
     "execution_count": 40,
     "metadata": {},
     "output_type": "execute_result"
    }
   ],
   "source": [
    "np.diag((1,2,3))"
   ]
  },
  {
   "cell_type": "code",
   "execution_count": 41,
   "metadata": {},
   "outputs": [
    {
     "data": {
      "text/plain": [
       "array([[1., 0., 0., 0., 0.],\n",
       "       [0., 1., 0., 0., 0.],\n",
       "       [0., 0., 1., 0., 0.],\n",
       "       [0., 0., 0., 1., 0.],\n",
       "       [0., 0., 0., 0., 1.]])"
      ]
     },
     "execution_count": 41,
     "metadata": {},
     "output_type": "execute_result"
    }
   ],
   "source": [
    "np.identity(5)"
   ]
  },
  {
   "cell_type": "markdown",
   "metadata": {},
   "source": [
    "All of these quickly generate a numpy array of a given shape. arange, linspace and logspace quickly give you an ordered list of numbers.  When you are sampling value of a function, solving a differential equation, etc. these all come in handy. "
   ]
  },
  {
   "cell_type": "markdown",
   "metadata": {},
   "source": [
    "\"ones\" is often useful if you just want to have a constant array, e.g. if you want to plot a horizonal line:"
   ]
  },
  {
   "cell_type": "code",
   "execution_count": 34,
   "metadata": {},
   "outputs": [
    {
     "data": {
      "text/plain": [
       "[<matplotlib.lines.Line2D at 0x2a4b50f3fa0>]"
      ]
     },
     "execution_count": 34,
     "metadata": {},
     "output_type": "execute_result"
    },
    {
     "data": {
      "image/png": "[encoded data removed]",
      "text/plain": [
       "<Figure size 432x288 with 1 Axes>"
      ]
     },
     "metadata": {
      "needs_background": "light"
     },
     "output_type": "display_data"
    }
   ],
   "source": [
    "x=np.arange(0,1,0.025)\n",
    "plt.plot(x,np.ones(len(x))*20)"
   ]
  },
  {
   "cell_type": "markdown",
   "metadata": {},
   "source": [
    "zeros can be useful just to create an array of a given shape that you want to populate with values later.  E.g. I want to find a value to put in, but it isn't easily expressable as an operation on the arrays"
   ]
  },
  {
   "cell_type": "code",
   "execution_count": 46,
   "metadata": {},
   "outputs": [],
   "source": [
    "y=np.zeros(len(x))\n",
    "for i in range(len(x)):\n",
    "    y[i]=x[i:].sum() # add up all the numbers in x, starting at the ith location"
   ]
  },
  {
   "cell_type": "code",
   "execution_count": 47,
   "metadata": {},
   "outputs": [
    {
     "name": "stdout",
     "output_type": "stream",
     "text": [
      "[19.5   19.5   19.475 19.425 19.35  19.25  19.125 18.975 18.8   18.6\n",
      " 18.375 18.125 17.85  17.55  17.225 16.875 16.5   16.1   15.675 15.225\n",
      " 14.75  14.25  13.725 13.175 12.6   12.    11.375 10.725 10.05   9.35\n",
      "  8.625  7.875  7.1    6.3    5.475  4.625  3.75   2.85   1.925  0.975]\n"
     ]
    }
   ],
   "source": [
    "print(y)"
   ]
  },
  {
   "cell_type": "markdown",
   "metadata": {},
   "source": [
    "zeros is also useful because you can quickly see if you did something wrong if there are too many entries that are still zero.  "
   ]
  },
  {
   "cell_type": "markdown",
   "metadata": {},
   "source": [
    "## Meshgrids"
   ]
  },
  {
   "cell_type": "markdown",
   "metadata": {},
   "source": [
    "A useful tool when dealing with numpy arrays is the meshgrid.  It allows us to take a multiple vectors and use them to define a higher dimensional space.  The obviuos example is that you have variables x, y and you want to define a function of (x,y).  E.g. Let's define an electric field in terms of x and y on a grid"
   ]
  },
  {
   "cell_type": "code",
   "execution_count": 48,
   "metadata": {},
   "outputs": [],
   "source": [
    "Lx=1.\n",
    "Ly=2.\n",
    "n=5\n",
    "x_array=np.linspace(0,Lx,n,endpoint=True)\n",
    "y_array=np.linspace(0,Ly,n,endpoint=True)"
   ]
  },
  {
   "cell_type": "markdown",
   "metadata": {},
   "source": [
    "so x_array and y_array are just 1d numpy arrays that list the x and y coordinates we want.  Now suppose you want $E_x = 5 \\sin(2. \\pi x/ Lx) \\cos(2. \\pi y/Ly)$.  You can't just multiply np.sin(x_array) np.cos(y_array) because that will return a 1d array of n values.  You want it to give a array of (n,n) as the shape (i.e. it gives a different value for each x and y you use.  So we make a meshgrid"
   ]
  },
  {
   "cell_type": "code",
   "execution_count": 49,
   "metadata": {},
   "outputs": [],
   "source": [
    "x,y=np.meshgrid(x_array,y_array) # this are the x-component & y-component of the mesh"
   ]
  },
  {
   "cell_type": "code",
   "execution_count": 52,
   "metadata": {},
   "outputs": [
    {
     "name": "stdout",
     "output_type": "stream",
     "text": [
      "[[0.   0.25 0.5  0.75 1.  ]\n",
      " [0.   0.25 0.5  0.75 1.  ]\n",
      " [0.   0.25 0.5  0.75 1.  ]\n",
      " [0.   0.25 0.5  0.75 1.  ]\n",
      " [0.   0.25 0.5  0.75 1.  ]]\n",
      "[0. 0. 0. 0. 0.]\n",
      "[0.   0.25 0.5  0.75 1.  ]\n"
     ]
    }
   ],
   "source": [
    "print(x)\n",
    "print(x[:,0])\n",
    "print(x[0,:])"
   ]
  },
  {
   "cell_type": "code",
   "execution_count": 53,
   "metadata": {},
   "outputs": [
    {
     "name": "stdout",
     "output_type": "stream",
     "text": [
      "[[0.  0.  0.  0.  0. ]\n",
      " [0.5 0.5 0.5 0.5 0.5]\n",
      " [1.  1.  1.  1.  1. ]\n",
      " [1.5 1.5 1.5 1.5 1.5]\n",
      " [2.  2.  2.  2.  2. ]]\n",
      "[0.  0.5 1.  1.5 2. ]\n",
      "[0. 0. 0. 0. 0.]\n"
     ]
    }
   ],
   "source": [
    "print(y)\n",
    "print(y[:,0])\n",
    "print(y[0,:])"
   ]
  },
  {
   "cell_type": "markdown",
   "metadata": {},
   "source": [
    "So now we can define the x-component of the electric field just by multiplying the arrays:"
   ]
  },
  {
   "cell_type": "code",
   "execution_count": 54,
   "metadata": {},
   "outputs": [],
   "source": [
    "Ex=5*np.sin(2.*pi*x/ Lx)*np.cos(2.*pi*y/Ly)"
   ]
  },
  {
   "cell_type": "code",
   "execution_count": 55,
   "metadata": {},
   "outputs": [
    {
     "data": {
      "text/plain": [
       "array([[ 0.00000000e+00,  5.00000000e+00,  6.12323400e-16,\n",
       "        -5.00000000e+00, -1.22464680e-15],\n",
       "       [ 0.00000000e+00,  3.06161700e-16,  3.74939946e-32,\n",
       "        -3.06161700e-16, -7.49879891e-32],\n",
       "       [-0.00000000e+00, -5.00000000e+00, -6.12323400e-16,\n",
       "         5.00000000e+00,  1.22464680e-15],\n",
       "       [-0.00000000e+00, -9.18485099e-16, -1.12481984e-31,\n",
       "         9.18485099e-16,  2.24963967e-31],\n",
       "       [ 0.00000000e+00,  5.00000000e+00,  6.12323400e-16,\n",
       "        -5.00000000e+00, -1.22464680e-15]])"
      ]
     },
     "execution_count": 55,
     "metadata": {},
     "output_type": "execute_result"
    }
   ],
   "source": [
    "Ex"
   ]
  },
  {
   "cell_type": "code",
   "execution_count": 56,
   "metadata": {},
   "outputs": [],
   "source": [
    "Ey=10.*np.sin(2.*pi*y/Ly)"
   ]
  },
  {
   "cell_type": "code",
   "execution_count": 57,
   "metadata": {},
   "outputs": [
    {
     "data": {
      "image/png": "[encoded data removed]",
      "text/plain": [
       "<Figure size 432x288 with 1 Axes>"
      ]
     },
     "metadata": {
      "needs_background": "light"
     },
     "output_type": "display_data"
    }
   ],
   "source": [
    "plt.figure()\n",
    "plt.quiver(x, y, Ex, Ey, units='width')\n",
    "plt.show()"
   ]
  },
  {
   "cell_type": "markdown",
   "metadata": {},
   "source": [
    "Now let's try in for 3d (x,y,z).  Let's just make a temperature in a box so that $T(x,y,z)= (x+2y) z$.  So we want to add a z-variable and make a higher dimensional array:"
   ]
  },
  {
   "cell_type": "code",
   "execution_count": 59,
   "metadata": {},
   "outputs": [],
   "source": [
    "Lz=3\n",
    "z_array=np.linspace(0,Lz,n,endpoint=True)"
   ]
  },
  {
   "cell_type": "code",
   "execution_count": 60,
   "metadata": {},
   "outputs": [],
   "source": [
    "x,y,z=np.meshgrid(x_array,y_array,z_array)"
   ]
  },
  {
   "cell_type": "code",
   "execution_count": 61,
   "metadata": {},
   "outputs": [
    {
     "name": "stdout",
     "output_type": "stream",
     "text": [
      "[0.   0.25 0.5  0.75 1.  ]\n",
      "[0.  0.5 1.  1.5 2. ]\n",
      "[0.   0.75 1.5  2.25 3.  ]\n"
     ]
    }
   ],
   "source": [
    "print(x[0,:,0])\n",
    "print(y[:,0,0])\n",
    "print(z[0,0,:])"
   ]
  },
  {
   "cell_type": "code",
   "execution_count": 62,
   "metadata": {},
   "outputs": [],
   "source": [
    "T=(x+2*y)*z"
   ]
  },
  {
   "cell_type": "code",
   "execution_count": 63,
   "metadata": {},
   "outputs": [
    {
     "data": {
      "text/plain": [
       "array([[[ 0.    ,  0.    ,  0.    ,  0.    ,  0.    ],\n",
       "        [ 0.    ,  0.1875,  0.375 ,  0.5625,  0.75  ],\n",
       "        [ 0.    ,  0.375 ,  0.75  ,  1.125 ,  1.5   ],\n",
       "        [ 0.    ,  0.5625,  1.125 ,  1.6875,  2.25  ],\n",
       "        [ 0.    ,  0.75  ,  1.5   ,  2.25  ,  3.    ]],\n",
       "\n",
       "       [[ 0.    ,  0.75  ,  1.5   ,  2.25  ,  3.    ],\n",
       "        [ 0.    ,  0.9375,  1.875 ,  2.8125,  3.75  ],\n",
       "        [ 0.    ,  1.125 ,  2.25  ,  3.375 ,  4.5   ],\n",
       "        [ 0.    ,  1.3125,  2.625 ,  3.9375,  5.25  ],\n",
       "        [ 0.    ,  1.5   ,  3.    ,  4.5   ,  6.    ]],\n",
       "\n",
       "       [[ 0.    ,  1.5   ,  3.    ,  4.5   ,  6.    ],\n",
       "        [ 0.    ,  1.6875,  3.375 ,  5.0625,  6.75  ],\n",
       "        [ 0.    ,  1.875 ,  3.75  ,  5.625 ,  7.5   ],\n",
       "        [ 0.    ,  2.0625,  4.125 ,  6.1875,  8.25  ],\n",
       "        [ 0.    ,  2.25  ,  4.5   ,  6.75  ,  9.    ]],\n",
       "\n",
       "       [[ 0.    ,  2.25  ,  4.5   ,  6.75  ,  9.    ],\n",
       "        [ 0.    ,  2.4375,  4.875 ,  7.3125,  9.75  ],\n",
       "        [ 0.    ,  2.625 ,  5.25  ,  7.875 , 10.5   ],\n",
       "        [ 0.    ,  2.8125,  5.625 ,  8.4375, 11.25  ],\n",
       "        [ 0.    ,  3.    ,  6.    ,  9.    , 12.    ]],\n",
       "\n",
       "       [[ 0.    ,  3.    ,  6.    ,  9.    , 12.    ],\n",
       "        [ 0.    ,  3.1875,  6.375 ,  9.5625, 12.75  ],\n",
       "        [ 0.    ,  3.375 ,  6.75  , 10.125 , 13.5   ],\n",
       "        [ 0.    ,  3.5625,  7.125 , 10.6875, 14.25  ],\n",
       "        [ 0.    ,  3.75  ,  7.5   , 11.25  , 15.    ]]])"
      ]
     },
     "execution_count": 63,
     "metadata": {},
     "output_type": "execute_result"
    }
   ],
   "source": [
    "T"
   ]
  },
  {
   "cell_type": "markdown",
   "metadata": {},
   "source": [
    "Now we see that there is an easier way we could find the distance for a bunch of different, time, velocities and accelertaions all at once!"
   ]
  },
  {
   "cell_type": "code",
   "execution_count": 67,
   "metadata": {},
   "outputs": [],
   "source": [
    "num=20\n",
    "t_list=np.linspace(0,10,100)\n",
    "v_list=2*np.linspace(0,10,num)\n",
    "a_list=3*np.linspace(0,1,num)"
   ]
  },
  {
   "cell_type": "code",
   "execution_count": 68,
   "metadata": {},
   "outputs": [
    {
     "name": "stdout",
     "output_type": "stream",
     "text": [
      "[0.         0.15789474 0.31578947 0.47368421 0.63157895 0.78947368\n",
      " 0.94736842 1.10526316 1.26315789 1.42105263 1.57894737 1.73684211\n",
      " 1.89473684 2.05263158 2.21052632 2.36842105 2.52631579 2.68421053\n",
      " 2.84210526 3.        ]\n"
     ]
    }
   ],
   "source": [
    "print(a_list)"
   ]
  },
  {
   "cell_type": "code",
   "execution_count": 74,
   "metadata": {},
   "outputs": [],
   "source": [
    "t,v,a=np.meshgrid(t_list,v_list,a_list)"
   ]
  },
  {
   "cell_type": "code",
   "execution_count": 75,
   "metadata": {},
   "outputs": [],
   "source": [
    "final_d=position(t,0,v,a)"
   ]
  },
  {
   "cell_type": "code",
   "execution_count": 76,
   "metadata": {},
   "outputs": [
    {
     "data": {
      "text/plain": [
       "array([ 0.        ,  0.10793743,  0.21909687,  0.33347832,  0.45108179,\n",
       "        0.57190727,  0.69595476,  0.82322427,  0.95371579,  1.08742932,\n",
       "        1.22436486,  1.36452242,  1.50790199,  1.65450357,  1.80432716,\n",
       "        1.95737277,  2.11364039,  2.27313002,  2.43584167,  2.60177533,\n",
       "        2.770931  ,  2.94330868,  3.11890838,  3.29773009,  3.47977381,\n",
       "        3.66503955,  3.8535273 ,  4.04523706,  4.24016883,  4.43832262,\n",
       "        4.63969842,  4.84429623,  5.05211606,  5.26315789,  5.47742175,\n",
       "        5.69490761,  5.91561548,  6.13954537,  6.36669728,  6.59707119,\n",
       "        6.83066712,  7.06748506,  7.30752501,  7.55078698,  7.79727096,\n",
       "        8.04697695,  8.29990495,  8.55605497,  8.815427  ,  9.07802104,\n",
       "        9.3438371 ,  9.61287516,  9.88513524, 10.16061734, 10.43932144,\n",
       "       10.72124756, 11.0063957 , 11.29476584, 11.586358  , 11.88117217,\n",
       "       12.17920835, 12.48046655, 12.78494676, 13.09264898, 13.40357321,\n",
       "       13.71771946, 14.03508772, 14.35567799, 14.67949028, 15.00652458,\n",
       "       15.33678089, 15.67025921, 16.00695955, 16.3468819 , 16.69002626,\n",
       "       17.03639263, 17.38598102, 17.73879142, 18.09482384, 18.45407826,\n",
       "       18.8165547 , 19.18225315, 19.55117362, 19.9233161 , 20.29868059,\n",
       "       20.67726709, 21.0590756 , 21.44410613, 21.83235867, 22.22383323,\n",
       "       22.6185298 , 23.01644838, 23.41758897, 23.82195157, 24.22953619,\n",
       "       24.64034282, 25.05437147, 25.47162212, 25.89209479, 26.31578947])"
      ]
     },
     "execution_count": 76,
     "metadata": {},
     "output_type": "execute_result"
    }
   ],
   "source": [
    "final_d[1,:,2]"
   ]
  },
  {
   "cell_type": "code",
   "execution_count": 77,
   "metadata": {},
   "outputs": [
    {
     "data": {
      "text/plain": [
       "array([ 0.        ,  0.1010101 ,  0.2020202 ,  0.3030303 ,  0.4040404 ,\n",
       "        0.50505051,  0.60606061,  0.70707071,  0.80808081,  0.90909091,\n",
       "        1.01010101,  1.11111111,  1.21212121,  1.31313131,  1.41414141,\n",
       "        1.51515152,  1.61616162,  1.71717172,  1.81818182,  1.91919192,\n",
       "        2.02020202,  2.12121212,  2.22222222,  2.32323232,  2.42424242,\n",
       "        2.52525253,  2.62626263,  2.72727273,  2.82828283,  2.92929293,\n",
       "        3.03030303,  3.13131313,  3.23232323,  3.33333333,  3.43434343,\n",
       "        3.53535354,  3.63636364,  3.73737374,  3.83838384,  3.93939394,\n",
       "        4.04040404,  4.14141414,  4.24242424,  4.34343434,  4.44444444,\n",
       "        4.54545455,  4.64646465,  4.74747475,  4.84848485,  4.94949495,\n",
       "        5.05050505,  5.15151515,  5.25252525,  5.35353535,  5.45454545,\n",
       "        5.55555556,  5.65656566,  5.75757576,  5.85858586,  5.95959596,\n",
       "        6.06060606,  6.16161616,  6.26262626,  6.36363636,  6.46464646,\n",
       "        6.56565657,  6.66666667,  6.76767677,  6.86868687,  6.96969697,\n",
       "        7.07070707,  7.17171717,  7.27272727,  7.37373737,  7.47474747,\n",
       "        7.57575758,  7.67676768,  7.77777778,  7.87878788,  7.97979798,\n",
       "        8.08080808,  8.18181818,  8.28282828,  8.38383838,  8.48484848,\n",
       "        8.58585859,  8.68686869,  8.78787879,  8.88888889,  8.98989899,\n",
       "        9.09090909,  9.19191919,  9.29292929,  9.39393939,  9.49494949,\n",
       "        9.5959596 ,  9.6969697 ,  9.7979798 ,  9.8989899 , 10.        ])"
      ]
     },
     "execution_count": 77,
     "metadata": {},
     "output_type": "execute_result"
    }
   ],
   "source": [
    "t[0,:,0]"
   ]
  },
  {
   "cell_type": "code",
   "execution_count": 78,
   "metadata": {},
   "outputs": [
    {
     "data": {
      "image/png": "[encoded data removed]",
      "text/plain": [
       "<Figure size 432x288 with 1 Axes>"
      ]
     },
     "metadata": {
      "needs_background": "light"
     },
     "output_type": "display_data"
    }
   ],
   "source": [
    "for i in range(num):\n",
    "    for j in range(num):\n",
    "        plt.plot(t_list,final_d[i,:,j])"
   ]
  },
  {
   "cell_type": "markdown",
   "metadata": {},
   "source": [
    "Look, we found 400 solution at 100 points in time and plotted all of them without breaking a sweat!"
   ]
  },
  {
   "cell_type": "code",
   "execution_count": null,
   "metadata": {},
   "outputs": [],
   "source": []
  }
 ],
 "metadata": {
  "kernelspec": {
   "display_name": "Python 3 (ipykernel)",
   "language": "python",
   "name": "python3"
  },
  "language_info": {
   "codemirror_mode": {
    "name": "ipython",
    "version": 3
   },
   "file_extension": ".py",
   "mimetype": "text/x-python",
   "name": "python",
   "nbconvert_exporter": "python",
   "pygments_lexer": "ipython3",
   "version": "3.9.12"
  }
 },
 "nbformat": 4,
 "nbformat_minor": 2
}
